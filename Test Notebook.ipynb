{
 "cells": [
  {
   "cell_type": "markdown",
   "metadata": {},
   "source": [
    "# Test pandas_cub manually\n",
    "\n",
    "In this notebook, we will test pandas_cub manually."
   ]
  },
  {
   "cell_type": "code",
   "execution_count": 1,
   "metadata": {},
   "outputs": [
    {
     "data": {
      "text/plain": [
       "'/home/yholi/anaconda3/envs/pandas_cub/bin/python'"
      ]
     },
     "execution_count": 1,
     "metadata": {},
     "output_type": "execute_result"
    }
   ],
   "source": [
    "import sys\n",
    "sys.executable"
   ]
  },
  {
   "cell_type": "code",
   "execution_count": 2,
   "metadata": {
    "scrolled": true
   },
   "outputs": [],
   "source": [
    "%load_ext autoreload\n",
    "%autoreload 2"
   ]
  },
  {
   "cell_type": "code",
   "execution_count": 3,
   "metadata": {},
   "outputs": [],
   "source": [
    "import numpy as np\n",
    "import pandas_cub as pdc\n",
    "import pandas_cub_final as pdcf\n",
    "import pandas as pd"
   ]
  },
  {
   "cell_type": "code",
   "execution_count": 4,
   "metadata": {},
   "outputs": [],
   "source": [
    "name = np.array(['Niko', 'Penelope', 'Eleni', 'Teddi'])\n",
    "state = np.array(['Texas', 'California', \"New York\"])\n",
    "height = np.array([3.6, 8.5, 5.2, 10.0])\n",
    "school = np.array([True, False, True, True])\n",
    "weight = np.array([40, 50, 45, 100])\n",
    "\n",
    "data = {'name': name, 'height': height, \n",
    "        'school': school, 'weight': weight}\n",
    "\n",
    "df = pdc.DataFrame(data)\n",
    "df_final = pdcf.DataFrame(data)\n",
    "df_pandas = pd.DataFrame(data)"
   ]
  },
  {
   "cell_type": "code",
   "execution_count": 5,
   "metadata": {},
   "outputs": [
    {
     "data": {
      "text/html": [
       "<table><thead><tr><th></th><th>name      </th><th>height    </th><th>school    </th><th>weight    </th></tr></thead><tbody><tr><td><strong>0</strong></td><td>Niko      </td><td>     3.600</td><td>True</td><td>        40</td></tr><tr><td><strong>1</strong></td><td>Penelope  </td><td>     8.500</td><td>False</td><td>        50</td></tr><tr><td><strong>2</strong></td><td>Eleni     </td><td>     5.200</td><td>True</td><td>        45</td></tr><tr><td><strong>3</strong></td><td>Teddi     </td><td>    10.000</td><td>True</td><td>       100</td></tr></tbody></table>"
      ],
      "text/plain": [
       "<pandas_cub.DataFrame at 0x7f7b0f7227b8>"
      ]
     },
     "execution_count": 5,
     "metadata": {},
     "output_type": "execute_result"
    }
   ],
   "source": [
    "df"
   ]
  },
  {
   "cell_type": "code",
   "execution_count": 6,
   "metadata": {},
   "outputs": [
    {
     "data": {
      "text/html": [
       "<table><thead><tr><th></th><th>name      </th><th>height    </th><th>school    </th><th>weight    </th></tr></thead><tbody><tr><td><strong>0</strong></td><td>Niko      </td><td>     3.600</td><td>True</td><td>        40</td></tr><tr><td><strong>1</strong></td><td>Penelope  </td><td>     8.500</td><td>False</td><td>        50</td></tr><tr><td><strong>2</strong></td><td>Eleni     </td><td>     5.200</td><td>True</td><td>        45</td></tr><tr><td><strong>3</strong></td><td>Teddi     </td><td>    10.000</td><td>True</td><td>       100</td></tr></tbody></table>"
      ],
      "text/plain": [
       "<pandas_cub_final.DataFrame at 0x7f7b0f722780>"
      ]
     },
     "execution_count": 6,
     "metadata": {},
     "output_type": "execute_result"
    }
   ],
   "source": [
    "df_final"
   ]
  },
  {
   "cell_type": "code",
   "execution_count": 7,
   "metadata": {},
   "outputs": [
    {
     "data": {
      "text/html": [
       "<table><thead><tr><th></th><th>name      </th><th>height    </th><th>school    </th><th>weight    </th></tr></thead><tbody><tr><td><strong>0</strong></td><td>Niko      </td><td>     3.600</td><td>True</td><td>        40</td></tr><tr><td><strong>1</strong></td><td>Penelope  </td><td>     3.600</td><td>False</td><td>        40</td></tr><tr><td><strong>2</strong></td><td>Eleni     </td><td>     3.600</td><td>False</td><td>        40</td></tr><tr><td><strong>3</strong></td><td>Teddi     </td><td>     3.600</td><td>False</td><td>        40</td></tr></tbody></table>"
      ],
      "text/plain": [
       "<pandas_cub.DataFrame at 0x7f7b0f713b00>"
      ]
     },
     "execution_count": 7,
     "metadata": {},
     "output_type": "execute_result"
    }
   ],
   "source": [
    "df.cummin()"
   ]
  },
  {
   "cell_type": "code",
   "execution_count": 8,
   "metadata": {},
   "outputs": [
    {
     "data": {
      "text/html": [
       "<table><thead><tr><th></th><th>name      </th><th>height    </th><th>school    </th><th>weight    </th></tr></thead><tbody><tr><td><strong>0</strong></td><td>Niko      </td><td>     3.600</td><td>         1</td><td>        40</td></tr><tr><td><strong>1</strong></td><td>Penelope  </td><td>    12.100</td><td>         1</td><td>        90</td></tr><tr><td><strong>2</strong></td><td>Eleni     </td><td>    17.300</td><td>         2</td><td>       135</td></tr><tr><td><strong>3</strong></td><td>Teddi     </td><td>    27.300</td><td>         3</td><td>       235</td></tr></tbody></table>"
      ],
      "text/plain": [
       "<pandas_cub.DataFrame at 0x7f7b0f713940>"
      ]
     },
     "execution_count": 8,
     "metadata": {},
     "output_type": "execute_result"
    }
   ],
   "source": [
    "df.cumsum()"
   ]
  },
  {
   "cell_type": "code",
   "execution_count": 9,
   "metadata": {},
   "outputs": [
    {
     "data": {
      "text/html": [
       "<table><thead><tr><th></th><th>name      </th><th>height    </th><th>school    </th><th>weight    </th></tr></thead><tbody><tr><td><strong>0</strong></td><td>Niko      </td><td>     3.600</td><td>True</td><td>        40</td></tr><tr><td><strong>1</strong></td><td>Penelope  </td><td>     8.500</td><td>False</td><td>        50</td></tr><tr><td><strong>2</strong></td><td>Eleni     </td><td>     5.200</td><td>True</td><td>        45</td></tr><tr><td><strong>3</strong></td><td>Teddi     </td><td>    10.000</td><td>True</td><td>       100</td></tr></tbody></table>"
      ],
      "text/plain": [
       "<pandas_cub.DataFrame at 0x7f7b0f7227b8>"
      ]
     },
     "execution_count": 9,
     "metadata": {},
     "output_type": "execute_result"
    }
   ],
   "source": [
    "df"
   ]
  },
  {
   "cell_type": "code",
   "execution_count": 10,
   "metadata": {},
   "outputs": [
    {
     "data": {
      "text/plain": [
       "array([ 40,  50,  45, 100])"
      ]
     },
     "execution_count": 10,
     "metadata": {},
     "output_type": "execute_result"
    }
   ],
   "source": [
    "weight"
   ]
  },
  {
   "cell_type": "code",
   "execution_count": 11,
   "metadata": {},
   "outputs": [
    {
     "data": {
      "text/plain": [
       "array([100,  40,  50,  45])"
      ]
     },
     "execution_count": 11,
     "metadata": {},
     "output_type": "execute_result"
    }
   ],
   "source": [
    "np.roll(weight, 1)"
   ]
  },
  {
   "cell_type": "code",
   "execution_count": 12,
   "metadata": {},
   "outputs": [
    {
     "data": {
      "text/html": [
       "<table><thead><tr><th></th><th>name      </th><th>height    </th><th>school    </th><th>weight    </th></tr></thead><tbody><tr><td><strong>0</strong></td><td>Niko      </td><td>       nan</td><td>       nan</td><td>       nan</td></tr><tr><td><strong>1</strong></td><td>Penelope  </td><td>       nan</td><td>       nan</td><td>       nan</td></tr><tr><td><strong>2</strong></td><td>Eleni     </td><td>     1.600</td><td>     0.000</td><td>     5.000</td></tr><tr><td><strong>3</strong></td><td>Teddi     </td><td>     1.500</td><td>     1.000</td><td>    50.000</td></tr></tbody></table>"
      ],
      "text/plain": [
       "<pandas_cub.DataFrame at 0x7f7b0f7225c0>"
      ]
     },
     "execution_count": 12,
     "metadata": {},
     "output_type": "execute_result"
    }
   ],
   "source": [
    "df.diff(2)"
   ]
  },
  {
   "cell_type": "code",
   "execution_count": 13,
   "metadata": {},
   "outputs": [
    {
     "name": "stderr",
     "output_type": "stream",
     "text": [
      "/home/yholi/Documents/pandas_cub/pandas_cub/__init__.py:703: RuntimeWarning: divide by zero encountered in true_divide\n",
      "  value = (value - value_shifted) / value_shifted\n"
     ]
    },
    {
     "data": {
      "text/html": [
       "<table><thead><tr><th></th><th>name      </th><th>height    </th><th>school    </th><th>weight    </th></tr></thead><tbody><tr><td><strong>0</strong></td><td>Niko      </td><td>       nan</td><td>       nan</td><td>       nan</td></tr><tr><td><strong>1</strong></td><td>Penelope  </td><td>     1.361</td><td>    -1.000</td><td>     0.250</td></tr><tr><td><strong>2</strong></td><td>Eleni     </td><td>    -0.388</td><td>       inf</td><td>    -0.100</td></tr><tr><td><strong>3</strong></td><td>Teddi     </td><td>     0.923</td><td>     0.000</td><td>     1.222</td></tr></tbody></table>"
      ],
      "text/plain": [
       "<pandas_cub.DataFrame at 0x7f7b0f722748>"
      ]
     },
     "execution_count": 13,
     "metadata": {},
     "output_type": "execute_result"
    }
   ],
   "source": [
    "df.pct_change()"
   ]
  },
  {
   "cell_type": "code",
   "execution_count": 14,
   "metadata": {},
   "outputs": [
    {
     "data": {
      "text/html": [
       "<table><thead><tr><th></th><th>name      </th><th>height    </th><th>school    </th><th>weight    </th></tr></thead><tbody><tr><td><strong>0</strong></td><td>Niko      </td><td>     3.600</td><td>True</td><td>        40</td></tr><tr><td><strong>1</strong></td><td>Penelope  </td><td>     8.500</td><td>False</td><td>        50</td></tr><tr><td><strong>2</strong></td><td>Eleni     </td><td>     5.200</td><td>True</td><td>        45</td></tr><tr><td><strong>3</strong></td><td>Teddi     </td><td>    10.000</td><td>True</td><td>       100</td></tr></tbody></table>"
      ],
      "text/plain": [
       "<pandas_cub.DataFrame at 0x7f7b0f7227b8>"
      ]
     },
     "execution_count": 14,
     "metadata": {},
     "output_type": "execute_result"
    }
   ],
   "source": [
    "df"
   ]
  },
  {
   "cell_type": "code",
   "execution_count": 15,
   "metadata": {},
   "outputs": [
    {
     "data": {
      "text/html": [
       "<table><thead><tr><th></th><th>name      </th><th>height    </th><th>school    </th><th>weight    </th></tr></thead><tbody><tr><td><strong>0</strong></td><td>Niko      </td><td>     3.600</td><td>True</td><td>        40</td></tr><tr><td><strong>1</strong></td><td>Eleni     </td><td>     5.200</td><td>True</td><td>        45</td></tr><tr><td><strong>2</strong></td><td>Penelope  </td><td>     8.500</td><td>False</td><td>        50</td></tr><tr><td><strong>3</strong></td><td>Teddi     </td><td>    10.000</td><td>True</td><td>       100</td></tr></tbody></table>"
      ],
      "text/plain": [
       "<pandas_cub.DataFrame at 0x7f7b0f6dd3c8>"
      ]
     },
     "execution_count": 15,
     "metadata": {},
     "output_type": "execute_result"
    }
   ],
   "source": [
    "df.sort_values('weight') "
   ]
  },
  {
   "cell_type": "code",
   "execution_count": 16,
   "metadata": {},
   "outputs": [
    {
     "data": {
      "text/html": [
       "<table><thead><tr><th></th><th>name      </th><th>height    </th><th>school    </th><th>weight    </th></tr></thead><tbody><tr><td><strong>0</strong></td><td>Eleni     </td><td>     5.200</td><td>True</td><td>        45</td></tr><tr><td><strong>1</strong></td><td>Niko      </td><td>     3.600</td><td>True</td><td>        40</td></tr><tr><td><strong>2</strong></td><td>Penelope  </td><td>     8.500</td><td>False</td><td>        50</td></tr><tr><td><strong>3</strong></td><td>Teddi     </td><td>    10.000</td><td>True</td><td>       100</td></tr></tbody></table>"
      ],
      "text/plain": [
       "<pandas_cub.DataFrame at 0x7f7b0f6dd710>"
      ]
     },
     "execution_count": 16,
     "metadata": {},
     "output_type": "execute_result"
    }
   ],
   "source": [
    "df.sort_values('name')"
   ]
  },
  {
   "cell_type": "code",
   "execution_count": 17,
   "metadata": {},
   "outputs": [
    {
     "data": {
      "text/html": [
       "<table><thead><tr><th></th><th>name      </th><th>height    </th><th>school    </th><th>weight    </th></tr></thead><tbody><tr><td><strong>0</strong></td><td>Penelope  </td><td>     8.500</td><td>False</td><td>        50</td></tr><tr><td><strong>1</strong></td><td>Niko      </td><td>     3.600</td><td>True</td><td>        40</td></tr><tr><td><strong>2</strong></td><td>Eleni     </td><td>     5.200</td><td>True</td><td>        45</td></tr><tr><td><strong>3</strong></td><td>Teddi     </td><td>    10.000</td><td>True</td><td>       100</td></tr></tbody></table>"
      ],
      "text/plain": [
       "<pandas_cub.DataFrame at 0x7f7b0f6ddbe0>"
      ]
     },
     "execution_count": 17,
     "metadata": {},
     "output_type": "execute_result"
    }
   ],
   "source": [
    "df.sort_values(['school', 'weight'])"
   ]
  },
  {
   "cell_type": "code",
   "execution_count": 18,
   "metadata": {},
   "outputs": [
    {
     "data": {
      "text/html": [
       "<table><thead><tr><th></th><th>name      </th><th>height    </th><th>school    </th><th>weight    </th></tr></thead><tbody><tr><td><strong>0</strong></td><td>Teddi     </td><td>    10.000</td><td>True</td><td>       100</td></tr><tr><td><strong>1</strong></td><td>Niko      </td><td>     3.600</td><td>True</td><td>        40</td></tr></tbody></table>"
      ],
      "text/plain": [
       "<pandas_cub.DataFrame at 0x7f7b0f6ddef0>"
      ]
     },
     "execution_count": 18,
     "metadata": {},
     "output_type": "execute_result"
    }
   ],
   "source": [
    "df.sample(2)"
   ]
  },
  {
   "cell_type": "code",
   "execution_count": 19,
   "metadata": {},
   "outputs": [
    {
     "data": {
      "text/html": [
       "<table><thead><tr><th></th><th>name      </th><th>height    </th><th>school    </th><th>weight    </th></tr></thead><tbody><tr><td><strong>0</strong></td><td>Teddi     </td><td>    10.000</td><td>True</td><td>       100</td></tr><tr><td><strong>1</strong></td><td>Teddi     </td><td>    10.000</td><td>True</td><td>       100</td></tr><tr><td><strong>2</strong></td><td>Eleni     </td><td>     5.200</td><td>True</td><td>        45</td></tr><tr><td><strong>3</strong></td><td>Penelope  </td><td>     8.500</td><td>False</td><td>        50</td></tr><tr><td><strong>4</strong></td><td>Eleni     </td><td>     5.200</td><td>True</td><td>        45</td></tr></tbody></table>"
      ],
      "text/plain": [
       "<pandas_cub.DataFrame at 0x7f7b0f6e02e8>"
      ]
     },
     "execution_count": 19,
     "metadata": {},
     "output_type": "execute_result"
    }
   ],
   "source": [
    "df.sample(5, replace=True)"
   ]
  },
  {
   "cell_type": "code",
   "execution_count": 20,
   "metadata": {},
   "outputs": [
    {
     "data": {
      "text/html": [
       "<table><thead><tr><th></th><th>name      </th><th>height    </th><th>school    </th><th>weight    </th></tr></thead><tbody><tr><td><strong>0</strong></td><td>Penelope  </td><td>     8.500</td><td>False</td><td>        50</td></tr><tr><td><strong>1</strong></td><td>Niko      </td><td>     3.600</td><td>True</td><td>        40</td></tr></tbody></table>"
      ],
      "text/plain": [
       "<pandas_cub.DataFrame at 0x7f7b0f6e06a0>"
      ]
     },
     "execution_count": 20,
     "metadata": {},
     "output_type": "execute_result"
    }
   ],
   "source": [
    "df.sample(frac=.5)"
   ]
  },
  {
   "cell_type": "code",
   "execution_count": 21,
   "metadata": {},
   "outputs": [
    {
     "data": {
      "text/html": [
       "<table><thead><tr><th></th><th>state     </th><th>fruit     </th><th>weight    </th></tr></thead><tbody><tr><td><strong>0</strong></td><td>Texas     </td><td>Apples    </td><td>         5</td></tr><tr><td><strong>1</strong></td><td>Florida   </td><td>Apples    </td><td>         4</td></tr><tr><td><strong>2</strong></td><td>Texas     </td><td>Apples    </td><td>        10</td></tr><tr><td><strong>3</strong></td><td>Florida   </td><td>Apples    </td><td>         3</td></tr><tr><td><strong>4</strong></td><td>Texas     </td><td>Oranges   </td><td>         2</td></tr><tr><td><strong>5</strong></td><td>Florida   </td><td>Oranges   </td><td>         2</td></tr><tr><td><strong>6</strong></td><td>Texas     </td><td>Oranges   </td><td>         4</td></tr><tr><td><strong>7</strong></td><td>Florida   </td><td>Oranges   </td><td>         1</td></tr></tbody></table>"
      ],
      "text/plain": [
       "<pandas_cub.DataFrame at 0x7f7b0f6e7c18>"
      ]
     },
     "execution_count": 21,
     "metadata": {},
     "output_type": "execute_result"
    }
   ],
   "source": [
    "state = np.array(['Texas', 'Florida', 'Texas', 'Florida', 'Texas', 'Florida', 'Texas', 'Florida'])\n",
    "fruit = np.array(['Apples', 'Apples', 'Apples', 'Apples', 'Oranges', 'Oranges', 'Oranges', 'Oranges'])\n",
    "weight = np.array([5, 4, 10, 3, 2, 2, 4, 1])\n",
    "data = {'state': state, 'fruit': fruit, 'weight': weight}\n",
    "\n",
    "df = pdc.DataFrame(data)\n",
    "df_final = pdcf.DataFrame(data)\n",
    "df"
   ]
  },
  {
   "cell_type": "code",
   "execution_count": 22,
   "metadata": {},
   "outputs": [
    {
     "data": {
      "text/html": [
       "<table><thead><tr><th></th><th>state     </th><th>Apples    </th><th>Oranges   </th></tr></thead><tbody><tr><td><strong>0</strong></td><td>Florida   </td><td>         7</td><td>         3</td></tr><tr><td><strong>1</strong></td><td>Texas     </td><td>        15</td><td>         6</td></tr></tbody></table>"
      ],
      "text/plain": [
       "<pandas_cub_final.DataFrame at 0x7f7b0f6e0470>"
      ]
     },
     "execution_count": 22,
     "metadata": {},
     "output_type": "execute_result"
    }
   ],
   "source": [
    "df_final.pivot_table(rows='state', columns='fruit', values='weight', aggfunc='sum')"
   ]
  },
  {
   "cell_type": "code",
   "execution_count": 23,
   "metadata": {},
   "outputs": [
    {
     "data": {
      "text/html": [
       "<table><thead><tr><th></th><th>state     </th><th>sum       </th></tr></thead><tbody><tr><td><strong>0</strong></td><td>Florida   </td><td>        10</td></tr><tr><td><strong>1</strong></td><td>Texas     </td><td>        21</td></tr></tbody></table>"
      ],
      "text/plain": [
       "<pandas_cub_final.DataFrame at 0x7f7b0f713828>"
      ]
     },
     "execution_count": 23,
     "metadata": {},
     "output_type": "execute_result"
    }
   ],
   "source": [
    "df_final.pivot_table(rows='state', values='weight', aggfunc='sum')"
   ]
  },
  {
   "cell_type": "code",
   "execution_count": 24,
   "metadata": {},
   "outputs": [
    {
     "data": {
      "text/html": [
       "<table><thead><tr><th></th><th>state     </th></tr></thead><tbody><tr><td><strong>0</strong></td><td>TEXAS     </td></tr><tr><td><strong>1</strong></td><td>FLORIDA   </td></tr><tr><td><strong>2</strong></td><td>TEXAS     </td></tr><tr><td><strong>3</strong></td><td>FLORIDA   </td></tr><tr><td><strong>4</strong></td><td>TEXAS     </td></tr><tr><td><strong>5</strong></td><td>FLORIDA   </td></tr><tr><td><strong>6</strong></td><td>TEXAS     </td></tr><tr><td><strong>7</strong></td><td>FLORIDA   </td></tr></tbody></table>"
      ],
      "text/plain": [
       "<pandas_cub.DataFrame at 0x7f7b0f713d30>"
      ]
     },
     "execution_count": 24,
     "metadata": {},
     "output_type": "execute_result"
    }
   ],
   "source": [
    "df.str.upper('state')"
   ]
  },
  {
   "cell_type": "code",
   "execution_count": 25,
   "metadata": {},
   "outputs": [],
   "source": [
    "data = pdc.read_csv('data/employee.csv')"
   ]
  },
  {
   "cell_type": "code",
   "execution_count": 27,
   "metadata": {},
   "outputs": [
    {
     "data": {
      "text/html": [
       "<table><thead><tr><th></th><th>dept      </th><th>race      </th><th>gender    </th><th>salary    </th></tr></thead><tbody><tr><td><strong>0</strong></td><td>Houston Police Department-HPD</td><td>White     </td><td>Male      </td><td>     45279</td></tr><tr><td><strong>1</strong></td><td>Houston Fire Department (HFD)</td><td>White     </td><td>Male      </td><td>     63166</td></tr><tr><td><strong>2</strong></td><td>Houston Police Department-HPD</td><td>Black     </td><td>Male      </td><td>     66614</td></tr><tr><td><strong>3</strong></td><td>Public Works & Engineering-PWE</td><td>Asian     </td><td>Male      </td><td>     71680</td></tr><tr><td><strong>4</strong></td><td>Houston Airport System (HAS)</td><td>White     </td><td>Male      </td><td>     42390</td></tr><tr><td><strong>5</strong></td><td>Public Works & Engineering-PWE</td><td>White     </td><td>Male      </td><td>    107962</td></tr><tr><td><strong>6</strong></td><td>Houston Fire Department (HFD)</td><td>Hispanic  </td><td>Male      </td><td>     52644</td></tr><tr><td><strong>7</strong></td><td>Health & Human Services</td><td>Black     </td><td>Male      </td><td>    180416</td></tr><tr><td><strong>8</strong></td><td>Public Works & Engineering-PWE</td><td>Black     </td><td>Male      </td><td>     30347</td></tr><tr><td><strong>9</strong></td><td>Health & Human Services</td><td>Black     </td><td>Male      </td><td>     55269</td></tr><tr><strong><td>...</td></strong><td>...</td><td>...</td><td>...</td><td>...</td></tr><tr><td><strong>1525</strong></td><td>Parks & Recreation</td><td>Black     </td><td>Female    </td><td>     30347</td></tr><tr><td><strong>1526</strong></td><td>Houston Police Department-HPD</td><td>Hispanic  </td><td>Female    </td><td>     44429</td></tr><tr><td><strong>1527</strong></td><td>Houston Airport System (HAS)</td><td>Hispanic  </td><td>Male      </td><td>     29286</td></tr><tr><td><strong>1528</strong></td><td>Houston Police Department-HPD</td><td>White     </td><td>Male      </td><td>     81239</td></tr><tr><td><strong>1529</strong></td><td>Houston Police Department-HPD</td><td>Black     </td><td>Male      </td><td>    104455</td></tr><tr><td><strong>1530</strong></td><td>Houston Police Department-HPD</td><td>White     </td><td>Male      </td><td>     43443</td></tr><tr><td><strong>1531</strong></td><td>Houston Fire Department (HFD)</td><td>Black     </td><td>Male      </td><td>     66523</td></tr><tr><td><strong>1532</strong></td><td>Houston Police Department-HPD</td><td>White     </td><td>Male      </td><td>     43443</td></tr><tr><td><strong>1533</strong></td><td>Houston Police Department-HPD</td><td>Asian     </td><td>Male      </td><td>     55461</td></tr><tr><td><strong>1534</strong></td><td>Houston Fire Department (HFD)</td><td>Hispanic  </td><td>Male      </td><td>     51194</td></tr></tbody></table>"
      ],
      "text/plain": [
       "<pandas_cub.DataFrame at 0x7f7b0f644f28>"
      ]
     },
     "execution_count": 27,
     "metadata": {},
     "output_type": "execute_result"
    }
   ],
   "source": [
    "data"
   ]
  },
  {
   "cell_type": "code",
   "execution_count": 28,
   "metadata": {},
   "outputs": [
    {
     "data": {
      "text/html": [
       "<table><thead><tr><th></th><th>dept      </th><th>race      </th><th>gender    </th><th>salary    </th></tr></thead><tbody><tr><td><strong>0</strong></td><td>Houston Police Department-HPD</td><td>White     </td><td>Male      </td><td>     45279</td></tr><tr><td><strong>1</strong></td><td>Houston Fire Department (HFD)</td><td>White     </td><td>Male      </td><td>     63166</td></tr><tr><td><strong>2</strong></td><td>Houston Police Department-HPD</td><td>Black     </td><td>Male      </td><td>     66614</td></tr><tr><td><strong>3</strong></td><td>Public Works & Engineering-PWE</td><td>Asian     </td><td>Male      </td><td>     71680</td></tr><tr><td><strong>4</strong></td><td>Houston Airport System (HAS)</td><td>White     </td><td>Male      </td><td>     42390</td></tr></tbody></table>"
      ],
      "text/plain": [
       "<pandas_cub.DataFrame at 0x7f7b0f6e7128>"
      ]
     },
     "execution_count": 28,
     "metadata": {},
     "output_type": "execute_result"
    }
   ],
   "source": [
    "data.head()"
   ]
  },
  {
   "cell_type": "code",
   "execution_count": 29,
   "metadata": {},
   "outputs": [
    {
     "data": {
      "text/html": [
       "<table><thead><tr><th></th><th>Column Name</th><th>Data Type </th></tr></thead><tbody><tr><td><strong>0</strong></td><td>dept      </td><td>string    </td></tr><tr><td><strong>1</strong></td><td>race      </td><td>string    </td></tr><tr><td><strong>2</strong></td><td>gender    </td><td>string    </td></tr><tr><td><strong>3</strong></td><td>salary    </td><td>int       </td></tr></tbody></table>"
      ],
      "text/plain": [
       "<pandas_cub.DataFrame at 0x7f7b0f6e74e0>"
      ]
     },
     "execution_count": 29,
     "metadata": {},
     "output_type": "execute_result"
    }
   ],
   "source": [
    "data.dtypes"
   ]
  },
  {
   "cell_type": "code",
   "execution_count": null,
   "metadata": {},
   "outputs": [],
   "source": []
  }
 ],
 "metadata": {
  "kernelspec": {
   "display_name": "Python (pandas_cub)",
   "language": "python",
   "name": "pandas_cub"
  },
  "language_info": {
   "codemirror_mode": {
    "name": "ipython",
    "version": 3
   },
   "file_extension": ".py",
   "mimetype": "text/x-python",
   "name": "python",
   "nbconvert_exporter": "python",
   "pygments_lexer": "ipython3",
   "version": "3.6.13"
  }
 },
 "nbformat": 4,
 "nbformat_minor": 2
}
